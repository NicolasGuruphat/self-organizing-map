{
 "cells": [
  {
   "cell_type": "markdown",
   "metadata": {},
   "source": [
    "# Self Organizing Map\n",
    "\n",
    "par Gregory Moutote et Nicolas Guruphat \n",
    "\n",
    "## 3 Étude “theorique” de cas simples\n",
    "\n",
    "### 3.1 Influence de η\n",
    "\n",
    "#### *Dans le cas où η = 0 quelle sera la prochaine valeur des poids du neurone gagnant ?*\n",
    "\n",
    "Dans ce cas là, le delta sera de 0 car le taux d'apprentissage est facteur de toute la formule. Le poids ne changera donc pas.\n",
    "\n",
    "#### *Même question dans le cas où η = 1*\n",
    "\n",
    "Si le taux d'apprentissage est égal à 1, $(x_i - w_{ij})$ tendra vers 0 (car nous travaillons sur le neuronne gagnant), donc le delta tendra également vers 0.\n",
    "\n",
    "#### *Dans le cas où $η ∈]0, 1[$ (paramétrisation “normale”) où se situera le nouveau poids par rapport à W∗ et X*\n",
    "en fonction de η (formule mathématique simple ou explication géométrique) ?*\n",
    "\n",
    "$$\\Delta w_{ij} = \\eta e^{-\\frac{||j-j^*||^2_c}{2\\sigma^2}} (x_i - w_{ij})\n",
    "$$\n",
    "En considérant que $j = j^*$ devient alors :\n",
    "\n",
    "$$\n",
    "\\Delta w_{ij} =  \\eta \\times 1 \\times (x_i - w_{ij})\n",
    "\\Leftrightarrow \\Delta w_{ij} = \\eta (x_i - w_{ij})\n",
    "$$\n",
    "\n",
    "Sachant que $\\eta \\in ]0;1[$ et que $(x_i - w_{ij}) {\\rightarrow} 0$, on peut dire que $\\Delta w_{ij}\\rightarrow 0$ avec une évolution semblable de $e^{-x}$. Donc, l'évolution du poids $w$ sera logarithmique.\n",
    "\n",
    "#### *Que va-t-il se passer si η > 1 ?*\n",
    "\n",
    "Si $\\eta > 1$, on peut en déduire que le neurone risque de sur-apprendre car si\n",
    "$\\eta {\\longrightarrow} \\infty$, alors les poids tendront vers $\\infty$ également et impliquer un sur-apprentissage."
   ]
  },
  {
   "cell_type": "code",
   "execution_count": null,
   "metadata": {},
   "outputs": [],
   "source": []
  }
 ],
 "metadata": {
  "language_info": {
   "name": "python"
  }
 },
 "nbformat": 4,
 "nbformat_minor": 2
}
